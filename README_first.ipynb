{
 "cells": [
  {
   "cell_type": "markdown",
   "id": "02f76e55-3d57-41bb-97e4-46531fc68e3d",
   "metadata": {},
   "source": [
    "# Training PyTorch models on an IPU using Paperspace Gradient\n",
    "\n",
    "These tutorials will show you how to use PyTorch models and train then on a Graphcore IPU using the Paperspace Gradient environment.\n",
    "\n",
    "In this environment, you will be able to learn how to use an IPU in a Jupyter-style notebook and use it to train large models including BERT-Large for natural language processing and SchNet-GNN to predict molecular energy gaps. \n",
    "\n",
    "## Getting Started\n",
    "\n",
    "No user setup is required to train IPU models on Gradient.\n",
    "\n",
    "To get started, open the `get-started` folder and run `Fine-tuning-BERT.ipynb`.\n",
    "\n",
    "This tutorial uses the [BERT-Large model](https://github.com/graphcore/tutorials/tree/master/tutorials/pytorch/finetuning_bert) fine-tuned using the SQuAD question answering dataset as an example to show how PyTorch models can be trained with a local dataset on the IPU.\n",
    "\n",
    "## Additional Tutorials\n",
    "\n",
    "Next, you can open up the `PyG-SchNetGNN.ipynb` notebook, which will take you through training a model to predict molecular energy gaps.\n",
    "\n",
    "### Other Examples\n",
    "\n",
    "More Graphcore IPU examples can be found at their [tutorials](https://github.com/graphcore/tutorials/) and [examples](https://github.com/graphcore/examples/) GitHub repositories."
   ]
  }
 ],
 "metadata": {
  "kernelspec": {
   "display_name": "Python 3",
   "language": "python",
   "name": "python3"
  },
  "language_info": {
   "codemirror_mode": {
    "name": "ipython",
    "version": 3
   },
   "file_extension": ".py",
   "mimetype": "text/x-python",
   "name": "python",
   "nbconvert_exporter": "python",
   "pygments_lexer": "ipython3",
   "version": "3.8.10"
  }
 },
 "nbformat": 4,
 "nbformat_minor": 5
}
