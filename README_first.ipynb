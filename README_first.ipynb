{
 "cells": [
  {
   "cell_type": "markdown",
   "id": "02f76e55-3d57-41bb-97e4-46531fc68e3d",
   "metadata": {},
   "source": [
    "# Training PyTorch models on an IPU using Paperspace Gradient\n",
    "\n",
    "These tutorials will show you how to use PyTorch models and train then on a Graphcore IPU using the Paperspace Gradient environment.\n",
    "\n",
    "In this environment, you will be able to learn how to use an IPU in a Jupyter-style notebook and use it to train large models including BERT-Large for natural language processing and SchNet-GNN to predict molecular energy gaps. \n",
    "\n",
    "## Getting Started\n",
    "\n",
    "No user setup is required to train IPU models on Gradient.\n",
    "\n",
    "### BERT-Large\n",
    "\n",
    "To get started, open the `get-started` folder and run `Fine-tuning-BERT.ipynb`.\n",
    "\n",
    "This tutorial uses the [BERT-Large model](https://github.com/graphcore/tutorials/tree/master/tutorials/pytorch/finetuning_bert) fine-tuned using the SQuAD question answering dataset as an example to show how PyTorch models can be trained with a local dataset on the IPU.\n",
    "\n",
    "### SchNet-GNN\n",
    "\n",
    "Next, you can open up the `PyG-SchNetGNN.ipynb` notebook, which will take you through training a model to predict molecular energy gaps using the QM9 dataset.\n",
    "\n",
    "## Additional Tutorials\n",
    "\n",
    "***NOTE*** - Additional material has been taken directly from Graphcore's existing repositories outside of Paperspace, and may contain instructions regarding setup steps that are not needed when running on Paperspace.\n",
    "\n",
    "In particular:\n",
    "\n",
    "- A Poplar SDK is required, but it is already set up within Paperspace\n",
    "- Python does not need be run in a virtual environment, because the runtime is already an isolated environment (although `virtualenv` can still be used in principle, via the terminal)\n",
    "- Jupyter is already launched as part of a Gradient runtime when it starts up\n",
    "- SSH is not needed to connect to the runtime\n",
    "\n",
    "Setup steps that may still be needed are:\n",
    "\n",
    "- Installing additional requirements for given material, e.g., `pip install -r requirements.txt`\n",
    "- Downloading of datasets\n",
    "\n",
    "Additional tutorial material within this runtime can be found at:\n",
    "\n",
    "- Python versions of notebook material, ending in `.py`\n",
    "- The `tutorial-notebooks` directory\n",
    "\n",
    "If you have any questions regarding running of IPU material in Gradient, please feel free to reach out to support at support@paperspace.com.\n",
    "\n",
    "Graphcore's original and extensive online GitHub repositories for [tutorials](https://github.com/graphcore/tutorials/) and [examples](https://github.com/graphcore/examples/) are also available, and can be pointed to when starting up a Gradient runtime under Advanced Options.\n"
   ]
  }
 ],
 "metadata": {
  "kernelspec": {
   "display_name": "Python 3",
   "language": "python",
   "name": "python3"
  },
  "language_info": {
   "codemirror_mode": {
    "name": "ipython",
    "version": 3
   },
   "file_extension": ".py",
   "mimetype": "text/x-python",
   "name": "python",
   "nbconvert_exporter": "python",
   "pygments_lexer": "ipython3",
   "version": "3.8.10"
  }
 },
 "nbformat": 4,
 "nbformat_minor": 5
}
